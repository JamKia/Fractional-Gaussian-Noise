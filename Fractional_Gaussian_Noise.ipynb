{
  "cells": [
    {
      "cell_type": "markdown",
      "metadata": {
        "id": "view-in-github",
        "colab_type": "text"
      },
      "source": [
        "<a href=\"https://colab.research.google.com/github/JamKia/Fractional-Gaussian-Noise/blob/main/Fractional_Gaussian_Noise.ipynb\" target=\"_parent\"><img src=\"https://colab.research.google.com/assets/colab-badge.svg\" alt=\"Open In Colab\"/></a>"
      ]
    },
    {
      "cell_type": "code",
      "execution_count": null,
      "metadata": {
        "id": "YbdYMIpBpC3d",
        "outputId": "6340efce-679b-43f2-b32f-a5fbe166c752"
      },
      "outputs": [
        {
          "data": {
            "text/html": [
              "<style>.container { width:100% !important; }</style>"
            ],
            "text/plain": [
              "<IPython.core.display.HTML object>"
            ]
          },
          "metadata": {},
          "output_type": "display_data"
        }
      ],
      "source": [
        "from IPython.core.display import display, HTML\n",
        "display(HTML(\"<style>.container { width:100% !important; }</style>\"))\n",
        "\n",
        "import numpy as np\n",
        "import matplotlib.pyplot as plt\n",
        "import pprint\n",
        "import pandas as pd\n",
        "import datetime\n",
        "import missingno as msno\n",
        "from stochastic.noise import FractionalGaussianNoise\n",
        "from tqdm import tqdm_notebook"
      ]
    },
    {
      "cell_type": "code",
      "execution_count": null,
      "metadata": {
        "id": "haohFZq-pC3g",
        "outputId": "360207e6-24bb-433a-cc59-068dbeba96d1"
      },
      "outputs": [
        {
          "name": "stdout",
          "output_type": "stream",
          "text": [
            "/home/jamshid/Dropbox/Mapping Coupled Timeseries onto network/6- peer reviewed-DJIA-S&P500-SSEC\n"
          ]
        }
      ],
      "source": [
        "import os\n",
        "folder_name = 'output-fGn'\n",
        "current_dir = os.getcwd()\n",
        "print(current_dir)\n",
        "path = current_dir+'/'+folder_name+'/'\n",
        "os.makedirs(path, exist_ok=True)"
      ]
    },
    {
      "cell_type": "code",
      "execution_count": null,
      "metadata": {
        "id": "SdFgEQD9pC3h"
      },
      "outputs": [],
      "source": [
        "Hurst_list = [0.1, 0.2, 0.3, 0.4, 0.5, 0.6, 0.7, 0.8, 0.9]"
      ]
    },
    {
      "cell_type": "code",
      "execution_count": null,
      "metadata": {
        "id": "-hRK3Kg9pC3i"
      },
      "outputs": [],
      "source": [
        "def fGn_DataSource(Hurst, max_ensemble_no = 32, length = 2000):\n",
        "\n",
        "    def fGn(Hurst, length = length, t=1):\n",
        "        from stochastic.noise import FractionalGaussianNoise\n",
        "        fgn = FractionalGaussianNoise(Hurst, t)\n",
        "        array_series = fgn.sample(n=length+1 , algorithm='hosking')\n",
        "        return array_series\n",
        "    \n",
        "    \n",
        "    df_fGn = pd.DataFrame()\n",
        "    for ensemble_no in range(0,max_ensemble_no):\n",
        "        df_fGn['no_'+str(ensemble_no)] = pd.Series(fGn(Hurst= Hurst, length= length, t=1))\n",
        "        df_fGn['no_'+str(ensemble_no)+'_lag'] = df_fGn['no_'+str(ensemble_no)].shift(1)\n",
        "            \n",
        "    df_fGn.dropna(axis=0, inplace=True)\n",
        "    df_fGn.reset_index(inplace=True, drop=True)\n",
        "            \n",
        "    return df_fGn\n",
        "\n",
        "############################################################################\n",
        "def AdjMatrix_list(df, numBins = 60, max_ensemble_no = 32):\n",
        "\n",
        "    def Cross_jointProbability(df,column_name1, column_name2, numBins = numBins):\n",
        "        import numpy as np\n",
        "        jointProbs, edges = np.histogramdd([df[column_name1],\n",
        "                                            df[column_name2]],\n",
        "                                            bins = numBins)\n",
        "        jointProbs /= jointProbs.sum()\n",
        "        return jointProbs\n",
        "    \n",
        "#     print(len(df.columns))\n",
        "    AdjMatrix_list = []\n",
        "    \n",
        "    for ensemble_no in range(0, max_ensemble_no):\n",
        "        print('column_name1 = no_'+ str(ensemble_no))\n",
        "        print('column_name1 = no_'+ str(ensemble_no)+'_lag')\n",
        "\n",
        "        AdjMatrix_list += [Cross_jointProbability(df,\n",
        "                               column_name1 = 'no_'+ str(ensemble_no),\n",
        "                               column_name2 = 'no_'+ str(ensemble_no)+'_lag')\n",
        "                              ]\n",
        "        \n",
        "    return AdjMatrix_list\n",
        "\n",
        "###########################################################################\n",
        "    "
      ]
    },
    {
      "cell_type": "markdown",
      "metadata": {
        "id": "ImBObqzqpC4K"
      },
      "source": [
        "# OOP fGn Codes"
      ]
    },
    {
      "cell_type": "code",
      "execution_count": null,
      "metadata": {
        "collapsed": true,
        "id": "TMTvTlZgpC4K"
      },
      "outputs": [],
      "source": [
        "class CLASS_timeSeries():\n",
        "    def __init__(self, series_name, path):\n",
        "        self.series_name = series_name\n",
        "        self.path = path\n",
        "    def fGn(self, Hurst, length, column_name = 'logChange', t=1):\n",
        "        self.Hurst = Hurst\n",
        "#         self.series_name = 'H='+str(float(self.Hurst))\n",
        "        from stochastic.noise import FractionalGaussianNoise\n",
        "        fgn = FractionalGaussianNoise(Hurst, t)\n",
        "        self.array_series = fgn.sample(n=length+1 , algorithm='hosking')\n",
        "        self.df = pd.DataFrame({column_name:self.array_series})\n",
        "        #---- lagged\n",
        "        self.df_lag = pd.DataFrame()\n",
        "        self.df_lag[column_name] = self.df[column_name].shift(1).copy()\n",
        "        self.df_lag.dropna(axis=0,inplace=True)\n",
        "        self.df_lag.reset_index(inplace=True)\n",
        "        \n",
        "        self.df = self.df.reindex(self.df.index.drop(0)).reset_index(drop=True)\n",
        "        self.df.to_pickle(self.path+'df_'+self.series_name+'.pickle')\n",
        "        self.df_lag.to_pickle(self.path+'df_'+self.series_name+'_lag.pickle')\n",
        "#         print(len(self.df), len(self.df_lag))\n",
        "#         self.df[column_name].head().plot()\n",
        "#         plt.show()\n",
        "#         self.df_lag[column_name].head().plot()\n",
        "#         plt.show()\n",
        "#         print(self.df[column_name].head())\n",
        "#         print(self.df_lag[column_name].head())\n",
        "    def Sample(self,length=9):\n",
        "\n",
        "        edge_list=[]\n",
        "        fig= plt.figure(figsize=(6,4))\n",
        "\n",
        "        series1 = np.random.randint(48, 54, length)\n",
        "        series2 = np.random.randint(48, 54, length)\n",
        "\n",
        "        ax= plt.scatter(x=np.arange(1,length+1), y=series1, marker='o', color='r', alpha=0.5, label='Timeseries 1')\n",
        "        ax= plt.scatter(x=np.arange(1,length+1), y=series2, marker='+', color='b', alpha=1, label='Timeseries 2')\n",
        "\n",
        "        for i in np.arange(1,length+1):\n",
        "            if series1[i-1] == series2[i-1]:\n",
        "                edge_list+=['Loop']\n",
        "\n",
        "            else: edge_list+=['Edge']\n",
        "\n",
        "        for i in np.arange(1,length+1):\n",
        "            if edge_list[i-1]=='Loop':\n",
        "                ax= plt.text(i, 54, edge_list[i-1], color='green' ,bbox=dict(facecolor='w', alpha=1))\n",
        "            else:\n",
        "                ax= plt.text(i, 54, edge_list[i-1], color='violet' ,bbox=dict(facecolor='w', alpha=1))\n",
        "\n",
        "        plt.xlim([0.5, 10])\n",
        "        plt.ylim([47.5, 55])\n",
        "\n",
        "        plt.yticks([])\n",
        "        plt.grid()\n",
        "        plt.xticks(np.arange(1, length+1), rotation=0)\n",
        "        plt.title(\"Connection Type in Mapping from Timeseries onto Network\")\n",
        "        plt.ylabel('Timeseries Amplitude')\n",
        "        plt.xlabel(\"Sample Datapoints\")\n",
        "        plt.legend(loc='lower right')\n",
        "        plt.tight_layout()\n",
        "\n",
        "        return ax\n",
        "\n",
        "    def input_df(self, df):\n",
        "        self.df = df\n",
        "        return self.df\n",
        "    \n",
        "    def df_to_xlsx(self):\n",
        "        # Create a Pandas Excel writer using XlsxWriter aui7js the engine.\n",
        "        writer = pd.ExcelWriter(self.path+self.series_name+\".xlsx\", engine='xlsxwriter')  # io.excel.xlsx.writer\n",
        "        # Convert the dataframe to an XlsxWriter Excel object.\n",
        "        self.df.to_excel(writer)\n",
        "        # Close the Pandas Excel writer and output the Excel file.\n",
        "        writer.save()\n",
        "        # print is successfully done!!!'\n",
        "    \n",
        "    def readExcel_series(self,fileName,column_name, length = 2000):\n",
        "        df_0 = pd.read_excel(\n",
        "            '/home/jamshid/Dropbox/spectral analysis of mapping time series onto complex networks/database/2009-2019/'+\n",
        "            self.series_name+'.xlsx')\n",
        "        #msno.matrix(df_0)\n",
        "\n",
        "        df_0.interpolate(method ='linear', inplace=True)\n",
        "        df_0[column_name].replace('null', np.nan, inplace=True)\n",
        "        df_0[column_name].replace(0, np.nan, inplace=True)        \n",
        "        #msno.matrix(df_0)\n",
        "        df_0.fillna({column_name:np.nan}, inplace=True)\n",
        "        msno.matrix(df_0)\n",
        "        df_0[column_name].astype('float', inplace=True)\n",
        "        df_0[\"logChange\"] = np.log(df_0[column_name]/df_0[column_name].shift(1))\n",
        "        df_0.dropna(inplace =True, how =\"any\") #inplace=True,\n",
        "        df_0.reset_index(inplace=True)\n",
        "        \n",
        "#         df_0[\"logChange\"] = (df_0[\"logChange\"]-df_0[\"logChange\"].mean())/df_0[\"logChange\"].std()\n",
        "\n",
        "        df_0['datetime']=pd.to_datetime(df_0['Date'])\n",
        "        #df_0.set_index('datetime',inplace=True)\n",
        "        df_0.drop(['Date'],axis=1,inplace=True)\n",
        "        self.df = df_0.iloc[-length::].reset_index().copy()\n",
        "        print(self.series_name+\"\\'s length:    \",len(self.df))\n",
        "        self.df.to_pickle(self.path+'df_'+self.series_name+'.pickle')\n",
        "        return self.df\n",
        "\n",
        "    def PLOT_series(self, title ,column_name=\"logChange\"):\n",
        "        fig_series = plt.figure(figsize=(5,3))\n",
        "        ax = plt.plot(self.df[column_name], linewidth = 0.2)\n",
        "        plt.grid()\n",
        "        plt.title(title)\n",
        "        plt.tight_layout()\n",
        "        fig_series.savefig(self.path+self.series_name+'_series.png', dpi=100)\n",
        "        return ax\n",
        "        \n",
        "    def Autocorrelation(self, max_lag, column_name):\n",
        "        self.max_lag= max_lag\n",
        "        self.array_series = np.asarray(self.df[column_name])\n",
        "        list_ret = np.zeros( (max_lag-1, len(self.array_series)-max_lag) )\n",
        "        #print(list_ret,\"\\n\",\"row=\",max_lag-1,\"col=\",len(self.array_series)-max_lag)\n",
        "        for i in range(1,max_lag):\n",
        "#             print(\"##################\\n\",i)\n",
        "#             print(\"\\n\\t timeseries:\\n\",\n",
        "#                   self.time_series)\n",
        "#             print(\"\\n\\t timeseries[i:]:\\n\",\n",
        "#                   self.time_series[i:])\n",
        "            ti = (self.array_series[i:] - self.array_series[:len(self.array_series)-i])\n",
        "            ti = ti[:len(ti)-max_lag+i]\n",
        "#             print(\"\\n\\t time_series[:len(time_series)-i]: \\n\",\n",
        "#                   self.time_series[:len(self.time_series)-i])\n",
        "#             print(\"\\n\\t time_series[i:] - time_series[:len(time_series)-i]: \\n\",\n",
        "#                   self.time_series[i:] - self.time_series[:len(self.time_series)-i])\n",
        "#             print(\"\\n\\t [:-max_lag+i]:\",-self.max_lag+i)\n",
        "#             print(\"\\n\\t ti=\\n\",(self.time_series[i:] - self.time_series[:len(self.time_series)-i])[:-self.max_lag+i])\n",
        "\n",
        "#             print(\"\\n\\t np.mean(ti):\\n\",np.mean(ti))\n",
        "            ti -= np.mean(ti)\n",
        "#             print(\"\\n\\t ti= \\n\",ti)\n",
        "\n",
        "#             print(\"\\n\\t np.std(ti):\\n\",np.mean(ti))\n",
        "            ti /= np.std(ti)\n",
        "#             print(\"\\n\\t ti=\\n\",ti)\n",
        "\n",
        "            list_ret[i-1] = ti\n",
        "#             print(\"\\n\\n list_ret[i-1] = ti \\n\",list_ret[i-1])\n",
        "            \n",
        "        n = list_ret.shape[1]\n",
        "#         print(\"n=\",n)\n",
        "\n",
        "#         plt.plot(list_ret.T)\n",
        "#         plt.title(self.series_name+\" with lags untill \"+str(max_lag))\n",
        "#         plt.show()\n",
        "            \n",
        "        self.autocorr = (list_ret @ list_ret.T)/n\n",
        "        #print(\"corr:\\n\",np.float16(self.corr))\n",
        "\n",
        "        return self.autocorr\n",
        "    \n",
        "    def PLOT_Autocorrelation(self, title):\n",
        "        fig_autocorrelation = plt.figure(figsize=(5,5))\n",
        "        imshow =plt.imshow(self.autocorr, vmin=0, vmax=1)\n",
        "        plt.colorbar(shrink=0.85)\n",
        "        plt.xticks(np.arange(0,self.max_lag-1,10))\n",
        "        plt.yticks(np.arange(0,self.max_lag-1,10))\n",
        "        plt.title(title)\n",
        "        fig_autocorrelation.savefig(self.path+self.series_name+'_AC_matrix.png', dpi=100)\n",
        "        "
      ]
    },
    {
      "cell_type": "markdown",
      "metadata": {
        "id": "dA8ogH9ApC4M"
      },
      "source": [
        "#### fGn Auto-correlation Matrix"
      ]
    },
    {
      "cell_type": "code",
      "execution_count": null,
      "metadata": {
        "scrolled": false,
        "id": "MSWLvHyRpC4M",
        "outputId": "6d3431c2-8ac4-4329-fadc-c3edd2a62fc3",
        "colab": {
          "referenced_widgets": [
            "8674295617984350ab10d94685b8c147"
          ]
        }
      },
      "outputs": [
        {
          "data": {
            "application/vnd.jupyter.widget-view+json": {
              "model_id": "8674295617984350ab10d94685b8c147",
              "version_major": 2,
              "version_minor": 0
            },
            "text/plain": [
              "HBox(children=(IntProgress(value=0, max=1), HTML(value='')))"
            ]
          },
          "metadata": {},
          "output_type": "display_data"
        },
        {
          "name": "stdout",
          "output_type": "stream",
          "text": [
            "\n"
          ]
        },
        {
          "data": {
            "image/png": "[encoded data removed]",
            "text/plain": [
              "<Figure size 360x216 with 1 Axes>"
            ]
          },
          "metadata": {
            "needs_background": "light"
          },
          "output_type": "display_data"
        },
        {
          "data": {
            "image/png": "[encoded data removed]",
            "text/plain": [
              "<Figure size 360x360 with 2 Axes>"
            ]
          },
          "metadata": {
            "needs_background": "light"
          },
          "output_type": "display_data"
        }
      ],
      "source": [
        "\n",
        "###  fGn noise  ###############################################################\n",
        "#==================\n",
        "import os\n",
        "folder_name = 'output-1-fGn-generate'\n",
        "current_dir = os.getcwd()\n",
        "path_to_load = current_dir+'/'+folder_name+'/'\n",
        "os.makedirs(path_to_load, exist_ok=True)\n",
        "#==================\n",
        "\n",
        "noise_ObjectDicts={}\n",
        "for Hurst in tqdm_notebook(Hurst_list):\n",
        "    ensemble_no = 1\n",
        "    while ensemble_no =<32:\n",
        "    # making fGn object >>> 0: key: Hurst, value: object\n",
        "    noise_ObjectDicts[Hurst+'_ensemble_no_'+ensemble_no] = [CLASS_timeSeries('H='+str(Hurst),path_to_load)]\n",
        "    \n",
        "    #2: key: Hurst, value: PLOT series\n",
        "    noise_ObjectDicts[Hurst].append(\n",
        "        noise_ObjectDicts[Hurst][0].fGn(Hurst,\n",
        "                                        length= 2000,\n",
        "                                        column_name=\"logChange\",\n",
        "                                        t=1))\n",
        "    \n",
        "    #3: key: Hurst, value: autocorrelation\n",
        "#     noise_ObjectDicts[Hurst].append(\n",
        "#         noise_ObjectDicts[Hurst][0].PLOT_series(title = 'H= '+str(Hurst), column_name=\"logChange\"))\n",
        "    \n",
        "    #4: key: Hurst, value: PLOT autocorrelation\n",
        "#     noise_ObjectDicts[Hurst].append(\n",
        "#         noise_ObjectDicts[Hurst][0].Autocorrelation(max_lag =40,\n",
        "#                                                     column_name='logChange'))\n",
        "#     noise_ObjectDicts[Hurst].append(\n",
        "#         noise_ObjectDicts[Hurst][0].PLOT_Autocorrelation(title = 'H= '+str(Hurst)))  \n",
        "    \n",
        "    noise_ObjectDicts[Hurst][0].df_to_xlsx()\n",
        "    \n",
        "    "
      ]
    },
    {
      "cell_type": "markdown",
      "metadata": {
        "id": "xeoDxlTrpC4N"
      },
      "source": [
        ""
      ]
    },
    {
      "cell_type": "code",
      "execution_count": null,
      "metadata": {
        "collapsed": true,
        "id": "fkWaX7WvpC4N"
      },
      "outputs": [],
      "source": [
        ""
      ]
    }
  ],
  "metadata": {
    "kernelspec": {
      "display_name": "Python 3",
      "language": "python",
      "name": "python3"
    },
    "language_info": {
      "codemirror_mode": {
        "name": "ipython",
        "version": 3
      },
      "file_extension": ".py",
      "mimetype": "text/x-python",
      "name": "python",
      "nbconvert_exporter": "python",
      "pygments_lexer": "ipython3",
      "version": "3.6.7"
    },
    "colab": {
      "name": "Fractional Gaussian Noise.ipynb",
      "provenance": [],
      "collapsed_sections": [],
      "include_colab_link": true
    }
  },
  "nbformat": 4,
  "nbformat_minor": 0
}